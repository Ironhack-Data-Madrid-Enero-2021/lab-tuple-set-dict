{
 "cells": [
  {
   "cell_type": "markdown",
   "metadata": {},
   "source": [
    "## Challenge 2: Sets\n",
    "\n",
    "There are a lot to learn about Python Sets and the information presented in the lesson is limited due to its length. To learn Python Sets in depth you are strongly encouraged to review the W3Schools tutorial on [Python Sets Examples and Methods](https://www.w3schools.com/python/python_sets.asp) before you work on this lab. Some difficult questions in this lab have their solutions in the W3Schools tutorial.\n",
    "\n",
    "#### First, import the Python `random` libary"
   ]
  },
  {
   "cell_type": "code",
   "execution_count": 1,
   "metadata": {},
   "outputs": [],
   "source": [
    "import random\n"
   ]
  },
  {
   "cell_type": "markdown",
   "metadata": {},
   "source": [
    "#### In the cell below, create a list named `sample_list_1` with 80 random values. \n",
    "\n",
    "Requirements:\n",
    "\n",
    "* Each value is an integer falling between 0 and 100.\n",
    "* Each value in the list is unique.\n",
    "\n",
    "Print `sample_list_1` to review its values\n",
    "\n",
    "*Hint: use `random.sample` ([reference](https://docs.python.org/3/library/random.html#random.sample)).*"
   ]
  },
  {
   "cell_type": "code",
   "execution_count": 6,
   "metadata": {},
   "outputs": [],
   "source": [
    "# Your code here\n",
    "sample_list_1 = []\n",
    "for i in range(80):\n",
    "    sample_list_1.append(random.randint(0,100))\n",
    "    "
   ]
  },
  {
   "cell_type": "markdown",
   "metadata": {},
   "source": [
    "#### Convert `sample_list_1` to a set called `set1`. Print the length of the set. Is its length still 80?"
   ]
  },
  {
   "cell_type": "code",
   "execution_count": 15,
   "metadata": {},
   "outputs": [
    {
     "name": "stdout",
     "output_type": "stream",
     "text": [
      "80\n"
     ]
    }
   ],
   "source": [
    "# Your code here\n",
    "set1 = sample_list_1\n",
    "set(set1)\n",
    "type(set1)\n",
    "print(len(set1))\n",
    "\n",
    "#si sigue siendo 80. el contenido no cambió porque no se repitieron numerosy  solo cambió el tipo de formato.\n"
   ]
  },
  {
   "cell_type": "markdown",
   "metadata": {},
   "source": [
    "#### Create another list named `sample_list_2` with 80 random values.\n",
    "\n",
    "Requirements:\n",
    "\n",
    "* Each value is an integer falling between 0 and 100.\n",
    "* The values in the list don't have to be unique.\n",
    "\n",
    "*Hint: Use a FOR loop.*"
   ]
  },
  {
   "cell_type": "code",
   "execution_count": 9,
   "metadata": {},
   "outputs": [],
   "source": [
    "# Your code here\n",
    "sample_list_2 = []\n",
    "for i in range(80):\n",
    "    sample_list_2.append(random.randint(0,100))\n"
   ]
  },
  {
   "cell_type": "markdown",
   "metadata": {},
   "source": [
    "#### Convert `sample_list_2` to a set called `set2`. Print the length of the set. Is its length still 80?"
   ]
  },
  {
   "cell_type": "code",
   "execution_count": 16,
   "metadata": {},
   "outputs": [
    {
     "name": "stdout",
     "output_type": "stream",
     "text": [
      "80\n",
      "[59, 32, 86, 16, 42, 13, 12, 51, 96, 80, 0, 53, 74, 86, 49, 96, 47, 54, 69, 4, 37, 50, 14, 87, 66, 15, 33, 41, 91, 99, 98, 6, 40, 0, 3, 50, 39, 18, 94, 8, 61, 64, 51, 44, 11, 41, 11, 86, 29, 91, 17, 67, 43, 98, 53, 9, 67, 98, 80, 12, 14, 77, 24, 96, 29, 96, 76, 5, 74, 57, 24, 82, 38, 68, 92, 48, 18, 48, 4, 59]\n"
     ]
    }
   ],
   "source": [
    "# Your code here\n",
    "\n",
    "set2 = sample_list_2\n",
    "set(set2)\n",
    "type(set2)\n",
    "print(len(set1))\n",
    "\n",
    "print(sample_list_2)\n",
    "#sigue siendo 80 , jupyter me esta dando problemas con la conversion de list a set en iterm si me ha funcionado."
   ]
  },
  {
   "cell_type": "markdown",
   "metadata": {},
   "source": [
    "#### Identify the elements present in `set1` but not in `set2`. Assign the elements to a new set named `set3`."
   ]
  },
  {
   "cell_type": "code",
   "execution_count": 91,
   "metadata": {
    "scrolled": true
   },
   "outputs": [
    {
     "name": "stdout",
     "output_type": "stream",
     "text": [
      "[59, 32, 86, 16, 42, 13, 12, 51, 96, 80, 0, 53, 74, 86, 49, 96, 47, 54, 69, 4, 37, 50, 14, 87, 66, 15, 33, 41, 91, 99, 98, 6, 40, 0, 3, 50, 39, 18, 94, 8, 61, 64, 51, 44, 11, 41, 11, 86, 29, 91, 17, 67, 43, 98, 53, 9, 67, 98, 80, 12, 14, 77, 24, 96, 29, 96, 76, 5, 74, 57, 24, 82, 38, 68, 92, 48, 18, 48, 4, 59]\n"
     ]
    }
   ],
   "source": [
    "# Your code here\n",
    "set3 = []\n",
    "for i in set1:\n",
    "    if i != set2:\n",
    "        set3.append(i)\n",
    "print(set3)"
   ]
  },
  {
   "cell_type": "markdown",
   "metadata": {},
   "source": [
    "#### Identify the elements present in `set2` but not in `set1`. Assign the elements to a new set named `set4`."
   ]
  },
  {
   "cell_type": "code",
   "execution_count": 50,
   "metadata": {},
   "outputs": [
    {
     "name": "stdout",
     "output_type": "stream",
     "text": [
      "[87, 81, 99, 23, 64, 84, 74, 20, 49, 14, 0, 2, 10, 18, 71, 30, 80, 74, 56, 100, 61, 60, 16, 63, 88, 63, 14, 35, 92, 37, 23, 79, 93, 56, 48, 80, 74, 27, 29, 82, 98, 68, 99, 57, 93, 8, 18, 33, 50, 20, 97, 46, 64, 76, 51, 4, 26, 20, 64, 51, 48, 25, 98, 88, 5, 35, 86, 74, 96, 85, 91, 52, 75, 72, 72, 80, 18, 39, 63, 93, 59, 32, 86, 16, 42, 13, 12, 51, 96, 80, 0, 53, 74, 86, 49, 96, 47, 54, 69, 4, 37, 50, 14, 87, 66, 15, 33, 41, 91, 99, 98, 6, 40, 0, 3, 50, 39, 18, 94, 8, 61, 64, 51, 44, 11, 41, 11, 86, 29, 91, 17, 67, 43, 98, 53, 9, 67, 98, 80, 12, 14, 77, 24, 96, 29, 96, 76, 5, 74, 57, 24, 82, 38, 68, 92, 48, 18, 48, 4, 59, 59, 32, 86, 16, 42, 13, 12, 51, 96, 80, 0, 53, 74, 86, 49, 96, 47, 54, 69, 4, 37, 50, 14, 87, 66, 15, 33, 41, 91, 99, 98, 6, 40, 0, 3, 50, 39, 18, 94, 8, 61, 64, 51, 44, 11, 41, 11, 86, 29, 91, 17, 67, 43, 98, 53, 9, 67, 98, 80, 12, 14, 77, 24, 96, 29, 96, 76, 5, 74, 57, 24, 82, 38, 68, 92, 48, 18, 48, 4, 59]\n"
     ]
    }
   ],
   "source": [
    "# Your code here\n",
    "set4 = []\n",
    "for i in set2:\n",
    "    if i != set1:\n",
    "        set3.append(i)\n",
    "print(set3)"
   ]
  },
  {
   "cell_type": "markdown",
   "metadata": {},
   "source": [
    "#### Now Identify the elements shared between `set1` and `set2`. Assign the elements to a new set named `set5`."
   ]
  },
  {
   "cell_type": "code",
   "execution_count": 51,
   "metadata": {},
   "outputs": [
    {
     "data": {
      "text/plain": [
       "{0,\n",
       " 3,\n",
       " 4,\n",
       " 5,\n",
       " 6,\n",
       " 8,\n",
       " 9,\n",
       " 11,\n",
       " 12,\n",
       " 13,\n",
       " 14,\n",
       " 15,\n",
       " 16,\n",
       " 17,\n",
       " 18,\n",
       " 24,\n",
       " 29,\n",
       " 32,\n",
       " 33,\n",
       " 37,\n",
       " 38,\n",
       " 39,\n",
       " 40,\n",
       " 41,\n",
       " 42,\n",
       " 43,\n",
       " 44,\n",
       " 47,\n",
       " 48,\n",
       " 49,\n",
       " 50,\n",
       " 51,\n",
       " 53,\n",
       " 54,\n",
       " 57,\n",
       " 59,\n",
       " 61,\n",
       " 64,\n",
       " 66,\n",
       " 67,\n",
       " 68,\n",
       " 69,\n",
       " 74,\n",
       " 76,\n",
       " 77,\n",
       " 80,\n",
       " 82,\n",
       " 86,\n",
       " 87,\n",
       " 91,\n",
       " 92,\n",
       " 94,\n",
       " 96,\n",
       " 98,\n",
       " 99}"
      ]
     },
     "execution_count": 51,
     "metadata": {},
     "output_type": "execute_result"
    }
   ],
   "source": [
    "# Your code here\n",
    "set(set1)\n",
    "set(set2)"
   ]
  },
  {
   "cell_type": "code",
   "execution_count": 74,
   "metadata": {},
   "outputs": [
    {
     "ename": "SyntaxError",
     "evalue": "cannot assign to function call (<ipython-input-74-dfc8f7dea006>, line 1)",
     "output_type": "error",
     "traceback": [
      "\u001b[0;36m  File \u001b[0;32m\"<ipython-input-74-dfc8f7dea006>\"\u001b[0;36m, line \u001b[0;32m1\u001b[0m\n\u001b[0;31m    set(set5) = set).intersection(set2)\u001b[0m\n\u001b[0m    ^\u001b[0m\n\u001b[0;31mSyntaxError\u001b[0m\u001b[0;31m:\u001b[0m cannot assign to function call\n"
     ]
    }
   ],
   "source": [
    "set(set5) = set).intersection(set2)\n",
    "type(set1)\n",
    "type(set2)\n",
    "\n",
    "# no me convierte en set en la terminal si que me funciona"
   ]
  },
  {
   "cell_type": "code",
   "execution_count": null,
   "metadata": {},
   "outputs": [],
   "source": []
  },
  {
   "cell_type": "markdown",
   "metadata": {},
   "source": [
    "#### What is the relationship among the following values:\n",
    "\n",
    "* len(set1)\n",
    "* len(set2)\n",
    "* len(set3)\n",
    "* len(set4)\n",
    "* len(set5)\n",
    "\n",
    "Use a math formular to represent that relationship. Test your formular with Python code."
   ]
  },
  {
   "cell_type": "code",
   "execution_count": null,
   "metadata": {},
   "outputs": [],
   "source": [
    "# no lo sé...\n"
   ]
  },
  {
   "cell_type": "markdown",
   "metadata": {},
   "source": [
    "#### Create an empty set called `set6`."
   ]
  },
  {
   "cell_type": "code",
   "execution_count": 49,
   "metadata": {},
   "outputs": [
    {
     "data": {
      "text/plain": [
       "dict"
      ]
     },
     "execution_count": 49,
     "metadata": {},
     "output_type": "execute_result"
    }
   ],
   "source": [
    "# Your code here\n",
    "set6 = {}\n",
    "set(set6)\n",
    "type(set6)\n",
    "# en la terminal si que me cambia a set y me aparece set() y si pongo print(set6) me aparece {})"
   ]
  },
  {
   "cell_type": "markdown",
   "metadata": {},
   "source": [
    "#### Add `set3` and `set5` to `set6` using the Python Set `update` method."
   ]
  },
  {
   "cell_type": "code",
   "execution_count": null,
   "metadata": {},
   "outputs": [],
   "source": [
    "# Your code here\n",
    "\n",
    "set6.update(set3)\n",
    "\n",
    "\n",
    "set6.update(set5)"
   ]
  },
  {
   "cell_type": "markdown",
   "metadata": {},
   "source": [
    "#### Check if `set1` and `set6` are equal."
   ]
  },
  {
   "cell_type": "code",
   "execution_count": 65,
   "metadata": {},
   "outputs": [
    {
     "data": {
      "text/plain": [
       "False"
      ]
     },
     "execution_count": 65,
     "metadata": {},
     "output_type": "execute_result"
    }
   ],
   "source": [
    "# Your code here\n",
    "set1 == set6"
   ]
  },
  {
   "cell_type": "markdown",
   "metadata": {},
   "source": [
    "#### Check if `set1` contains `set2` using the Python Set `issubset` method. Then check if `set1` contains `set3`.*"
   ]
  },
  {
   "cell_type": "code",
   "execution_count": 72,
   "metadata": {},
   "outputs": [
    {
     "name": "stdout",
     "output_type": "stream",
     "text": [
      "True\n",
      "True\n"
     ]
    }
   ],
   "source": [
    "# Your code here\n",
    "check = set(set1).issubset(set(set2))\n",
    "\n",
    "print(check)\n",
    "\n",
    "check2 = set(set1).issubset(set(set3))\n",
    "print(check2)"
   ]
  },
  {
   "cell_type": "markdown",
   "metadata": {},
   "source": [
    "#### Using the Python Set `union` method, aggregate `set3`, `set4`, and `set5`. Then aggregate `set1` and `set2`. \n",
    "\n",
    "#### Check if the aggregated values are equal."
   ]
  },
  {
   "cell_type": "code",
   "execution_count": 87,
   "metadata": {},
   "outputs": [
    {
     "data": {
      "text/plain": [
       "False"
      ]
     },
     "execution_count": 87,
     "metadata": {},
     "output_type": "execute_result"
    }
   ],
   "source": [
    "# Your code here\n",
    "total_set = set3 + set4\n",
    "\n",
    "#no he sumado set 5 por los problemas arriba mencionados\n",
    "\n",
    "total_set = set1 + set2\n",
    "\n",
    "total_set == set3 + set4 + set1 + set2"
   ]
  },
  {
   "cell_type": "markdown",
   "metadata": {},
   "source": [
    "#### Using the `pop` method, remove the first element from `set1`."
   ]
  },
  {
   "cell_type": "code",
   "execution_count": 92,
   "metadata": {},
   "outputs": [
    {
     "data": {
      "text/plain": [
       "59"
      ]
     },
     "execution_count": 92,
     "metadata": {},
     "output_type": "execute_result"
    }
   ],
   "source": [
    "# Your code here.\n",
    "set1.pop(0)"
   ]
  },
  {
   "cell_type": "markdown",
   "metadata": {},
   "source": [
    "#### Remove every element in the following list from `set1` if they are present in the set. Print the remaining elements.\n",
    "\n",
    "```\n",
    "list_to_remove = [1, 9, 11, 19, 21, 29, 31, 39, 41, 49, 51, 59, 61, 69, 71, 79, 81, 89, 91, 99]\n",
    "```"
   ]
  },
  {
   "cell_type": "code",
   "execution_count": 110,
   "metadata": {},
   "outputs": [
    {
     "name": "stdout",
     "output_type": "stream",
     "text": [
      "[32, 86, 16, 42, 13, 12, 51, 96, 80, 0, 53, 74, 86, 49, 96, 47, 54, 69, 4, 37, 50, 14, 87, 66, 15, 33, 41, 91, 99, 98, 6, 40, 0, 3, 50, 39, 18, 94, 8, 61, 64, 51, 44, 11, 41, 11, 86, 29, 91, 17, 67, 43, 98, 53, 67, 98, 80, 12, 14, 77, 24, 96, 29, 96, 76, 5, 74, 57, 24, 82, 38, 68, 92, 48, 18, 48, 4, 59]\n",
      "20\n",
      "78\n"
     ]
    }
   ],
   "source": [
    "# Your code here\n",
    "list_to_remove = [1, 9, 11, 19, 21, 29, 31, 39, 41, 49, 51, 59, 61, 69, 71, 79, 81, 89, 91, 99]\n",
    "\n",
    "print(set1)\n",
    "\n",
    "print(len(list_to_remove))\n",
    "\n",
    "#for i in list_to_remove:\n",
    " #   lista = 20\n",
    "   # if lista != 0:\n",
    "    #    set1.remove(i)\n",
    "print(len(set1))  \n",
    "\n",
    "#while (len(set1)) != len(list_to_remove):\n",
    "    n=1\n",
    "    set1.remove(n)\n",
    "    set1.remove(n+8)\n",
    "    set1.remove(n+2)\n",
    "    \n",
    "    for x in list_to_remove:\n",
    "    if x in set1:\n",
    "        set1.remove(x)\n",
    "\n",
    "print(set1)"
   ]
  },
  {
   "cell_type": "code",
   "execution_count": null,
   "metadata": {},
   "outputs": [],
   "source": []
  }
 ],
 "metadata": {
  "kernelspec": {
   "display_name": "Python 3",
   "language": "python",
   "name": "python3"
  },
  "language_info": {
   "codemirror_mode": {
    "name": "ipython",
    "version": 3
   },
   "file_extension": ".py",
   "mimetype": "text/x-python",
   "name": "python",
   "nbconvert_exporter": "python",
   "pygments_lexer": "ipython3",
   "version": "3.9.1"
  }
 },
 "nbformat": 4,
 "nbformat_minor": 2
}
